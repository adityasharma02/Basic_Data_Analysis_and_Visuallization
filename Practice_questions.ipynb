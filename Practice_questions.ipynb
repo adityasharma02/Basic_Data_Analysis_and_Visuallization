{
 "cells": [
  {
   "cell_type": "code",
   "execution_count": null,
   "id": "fbf95ee6",
   "metadata": {},
   "outputs": [],
   "source": [
    "#Can you return a table containing the top 10 stores by total transactions in the data?\n",
    "#Make sure they’re sorted from highest to lowest.\n",
    "\n",
    "transactions = pd.read_csv(\"../retail/transactions.csv\", parse_dates=[\"date\"])\n",
    "\n",
    "(transactions\n",
    " .groupby([\"store_nbr\"])[[\"transactions\"]] \n",
    " .sum() \n",
    " .sort_values(\"transactions\", ascending=False)  # sort in descending order\n",
    " .iloc[:10]  \n",
    ")"
   ]
  },
  {
   "cell_type": "code",
   "execution_count": null,
   "id": "5e163361",
   "metadata": {},
   "outputs": [],
   "source": [
    "#Can you get me the total transactions by store and month?\n",
    "#Sort the table from first month to last, then by highest transactions to lowest within each month\n",
    "\n",
    "transactions[\"month\"] = transactions[\"date\"].dt.month\n",
    "(transactions\n",
    " .groupby([\"store_nbr\", \"month\"])[[\"transactions\"]]\n",
    " .sum()\n",
    " .sort_values([\"month\", \"transactions\"], ascending=[True, False] # ascending month, descending transactions\n",
    "))"
   ]
  },
  {
   "cell_type": "code",
   "execution_count": null,
   "id": "a2a45555",
   "metadata": {},
   "outputs": [],
   "source": [
    "#Can you help me access rows and columns with multiple indices? I’ve been struggling with multi-index DataFrames.\n",
    "#Access:\n",
    "#Grab Store 3, Month 1\n",
    "#Then, select the column storing the mean of transactions\n",
    "#Fix:\n",
    "#Drop the outer layer of the column Index\n",
    "#Reset the row index so it is the default integer index\n",
    "\n",
    "grouped = (\n",
    "    transactions.groupby([\"store_nbr\", \"month\"])\n",
    "    .agg({\"transactions\": [\"sum\", \"mean\"]})\n",
    "    .sort_values(by=[\"month\", (\"transactions\", \"sum\")], ascending=[True, False])\n",
    ")\n",
    "\n",
    "grouped.loc[(3, 1)]\n",
    "\n",
    "\n",
    "# Grab mean column in column multi-index\n",
    "\n",
    "grouped.loc[:, [(\"transactions\", \"mean\")]]\n",
    "\n",
    "# Drop level from column index (axis=1), then reset index\n",
    "\n",
    "grouped.droplevel(0, axis=1).reset_index()"
   ]
  },
  {
   "cell_type": "code",
   "execution_count": null,
   "id": "515634c9",
   "metadata": {},
   "outputs": [],
   "source": [
    "#Calculate the mean of target met by store, and the sum of bonuses to be paid to each store.\n",
    "#Sort them by highest to lowest bonus payout.\n",
    "#Then, do the same for day of week and month.\n",
    "\n",
    "# Recreate table from section 3\n",
    "\n",
    "transactions = transactions.assign(\n",
    "    target_pct=transactions[\"transactions\"] / 2500,\n",
    "    met_target=(transactions[\"transactions\"] / 2500) >= 1,\n",
    "    bonus_payable=((transactions[\"transactions\"] / 2500) >= 1) * 100,\n",
    "    month=transactions.date.dt.month,\n",
    "    day_of_week=transactions.date.dt.dayofweek,\n",
    ")\n",
    "\n",
    "# Group transactions by store number to get store level stats \n",
    "# use agg to calculate mean of met_target, sum of transactions by store\n",
    "# sort values by bonus payable in descending order\n",
    "\n",
    "(transactions.groupby(\"store_nbr\")\n",
    " .agg({\"met_target\": \"mean\", \"bonus_payable\": \"sum\"})\n",
    " .sort_values(by=[\"bonus_payable\"], ascending=False)\n",
    ")"
   ]
  },
  {
   "cell_type": "code",
   "execution_count": null,
   "id": "68a5c035",
   "metadata": {},
   "outputs": [],
   "source": [
    "#Calculate the mean of transactions by store number and day of week while keeping row numbers.\n",
    "#Then compare the performance of each row to its day of week average. (difference between transactions and daily avg)\n",
    "\n",
    "# Assign method for column creation\n",
    "\n",
    "transactions.assign(\n",
    "    # use transform to create store level average transactions by day\n",
    "    avg_store_transactions = (transactions\n",
    "                              .groupby([\"store_nbr\", \"day_of_week\"])\n",
    "                              [\"transactions\"]\n",
    "                              .transform(\"mean\")),\n",
    "    \n",
    "    # Then create a difference column subtracting the store average from that days transactions\n",
    "    difference = lambda x: x[\"transactions\"] - x[\"avg_store_transactions\"]\n",
    ")"
   ]
  }
 ],
 "metadata": {
  "kernelspec": {
   "display_name": "Python 3",
   "language": "python",
   "name": "python3"
  },
  "language_info": {
   "codemirror_mode": {
    "name": "ipython",
    "version": 3
   },
   "file_extension": ".py",
   "mimetype": "text/x-python",
   "name": "python",
   "nbconvert_exporter": "python",
   "pygments_lexer": "ipython3",
   "version": "3.8.8"
  }
 },
 "nbformat": 4,
 "nbformat_minor": 5
}
