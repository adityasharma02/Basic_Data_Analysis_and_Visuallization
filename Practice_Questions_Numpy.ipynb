{
 "cells": [
  {
   "cell_type": "markdown",
   "id": "23f04c89",
   "metadata": {},
   "source": [
    "### 1. Given below is a dictionary having two keys ‘Boys’ and ‘Girls’ and having two lists of heights of five Boys and\n",
    "   Five Girls respectively as values associated with these keys\n",
    "Original dictionary of lists:\n",
    "{'Boys': [72, 68, 70, 69, 74], 'Girls': [63, 65, 69, 62, 61]}\n",
    "From the given dictionary of lists create the following list of dictionaries:\n",
    "[{'Boys': 72, 'Girls': 63}, {'Boys': 68, 'Girls': 65}, {'Boys': 70, 'Girls': 69}, {'Boys': 69, 'Girls': 62}, {‘Boys’:74,\n",
    "‘Girls’:61]"
   ]
  },
  {
   "cell_type": "code",
   "execution_count": 2,
   "id": "a97649d6",
   "metadata": {},
   "outputs": [],
   "source": [
    "import pandas as pd\n",
    "import numpy as np\n"
   ]
  },
  {
   "cell_type": "code",
   "execution_count": 11,
   "id": "39d7418e",
   "metadata": {},
   "outputs": [],
   "source": [
    "data=pd.read_csv(\"bestsellers.csv\")"
   ]
  },
  {
   "cell_type": "code",
   "execution_count": 3,
   "id": "b8782bd0",
   "metadata": {},
   "outputs": [],
   "source": [
    "dx = {'Boys': [72, 68, 70, 69, 74], 'Girls': [63, 65, 69, 62, 61]}"
   ]
  },
  {
   "cell_type": "code",
   "execution_count": 4,
   "id": "b6e9558f",
   "metadata": {},
   "outputs": [],
   "source": [
    "lnth = len(dx['Boys'])\n"
   ]
  },
  {
   "cell_type": "code",
   "execution_count": 5,
   "id": "242c8fc6",
   "metadata": {},
   "outputs": [
    {
     "data": {
      "text/plain": [
       "[[{'Boy': [72], 'Girl': [63]}],\n",
       " [{'Boy': [68], 'Girl': [65]}],\n",
       " [{'Boy': [70], 'Girl': [69]}],\n",
       " [{'Boy': [69], 'Girl': [62]}],\n",
       " [{'Boy': [74], 'Girl': [61]}]]"
      ]
     },
     "execution_count": 5,
     "metadata": {},
     "output_type": "execute_result"
    }
   ],
   "source": [
    "li =[ ]\n",
    "for i in range(lnth):\n",
    "    li.append([{\"Boy\" : [dx['Boys'][i]] , \"Girl\" :[dx[\"Girls\"][i]]}])\n",
    "    \n",
    "li"
   ]
  },
  {
   "cell_type": "markdown",
   "id": "5ec3b77c",
   "metadata": {},
   "source": [
    "### 2. Write programs in Python using NumPy library to do the following:\n",
    "a. Compute the mean, standard deviation, and variance of a two dimensional random integer array\n",
    "along the second axis.\n",
    "b. Get the indices of the sorted elements of a given array.\n",
    "a. B = [56, 48, 22, 41, 78, 91, 24, 46, 8, 33]\n",
    "c. Create a 2-dimensional array of size m x n integer elements, also print the shape, type and data\n",
    "type of the array and then reshape it into nx m array, n and m are user inputs given at the run time.\n",
    "d. Test whether the elements of a given array are zero, non-zero and NaN. Record the indices of\n",
    "these elements in three separate arrays."
   ]
  },
  {
   "cell_type": "code",
   "execution_count": 6,
   "id": "d7b0ea1e",
   "metadata": {},
   "outputs": [],
   "source": [
    "#A - Part\n",
    "\n",
    "arr = np.random.randn(3,3)"
   ]
  },
  {
   "cell_type": "code",
   "execution_count": 7,
   "id": "8253eab8",
   "metadata": {},
   "outputs": [
    {
     "data": {
      "text/plain": [
       "array([-0.46149499, -0.40643156, -0.42117515])"
      ]
     },
     "execution_count": 7,
     "metadata": {},
     "output_type": "execute_result"
    }
   ],
   "source": [
    "arr.mean(axis=1)"
   ]
  },
  {
   "cell_type": "code",
   "execution_count": 8,
   "id": "5ee560d5",
   "metadata": {},
   "outputs": [
    {
     "data": {
      "text/plain": [
       "array([0.70877939, 0.4682078 , 0.40580878])"
      ]
     },
     "execution_count": 8,
     "metadata": {},
     "output_type": "execute_result"
    }
   ],
   "source": [
    "arr.std(axis=1)\n"
   ]
  },
  {
   "cell_type": "code",
   "execution_count": 9,
   "id": "dbece36c",
   "metadata": {},
   "outputs": [
    {
     "data": {
      "text/plain": [
       "array([0.50236823, 0.21921855, 0.16468077])"
      ]
     },
     "execution_count": 9,
     "metadata": {},
     "output_type": "execute_result"
    }
   ],
   "source": [
    "arr.var(axis=1)"
   ]
  },
  {
   "cell_type": "code",
   "execution_count": 10,
   "id": "508bc8dc",
   "metadata": {},
   "outputs": [],
   "source": [
    "B = [56, 48, 22, 41, 78, 91, 24, 46, 8, 33]"
   ]
  },
  {
   "cell_type": "code",
   "execution_count": 11,
   "id": "919dbe67",
   "metadata": {},
   "outputs": [
    {
     "name": "stdout",
     "output_type": "stream",
     "text": [
      "8 :   0\n",
      "22 :   1\n",
      "24 :   2\n",
      "33 :   3\n",
      "41 :   4\n",
      "46 :   5\n",
      "48 :   6\n",
      "56 :   7\n",
      "78 :   8\n",
      "91 :   9\n"
     ]
    }
   ],
   "source": [
    "#B - part\n",
    "\n",
    "B.sort()\n",
    "for i in range (len(B)):\n",
    "    print(f\"{B[i]} :   {i}\")"
   ]
  },
  {
   "cell_type": "code",
   "execution_count": 14,
   "id": "6ad5e1e7",
   "metadata": {},
   "outputs": [
    {
     "name": "stdout",
     "output_type": "stream",
     "text": [
      "Enter no. of rows4\n"
     ]
    }
   ],
   "source": [
    "m = input(\"Enter no. of rows\")"
   ]
  },
  {
   "cell_type": "code",
   "execution_count": 15,
   "id": "8b191756",
   "metadata": {},
   "outputs": [
    {
     "name": "stdout",
     "output_type": "stream",
     "text": [
      "Enter no. of colums8\n"
     ]
    }
   ],
   "source": [
    "n= input(\"Enter no. of colums\")"
   ]
  },
  {
   "cell_type": "code",
   "execution_count": 18,
   "id": "646fb3eb",
   "metadata": {},
   "outputs": [
    {
     "data": {
      "text/plain": [
       "array([[-1.09602628, -0.398518  , -1.51966163,  0.87723805, -0.3569166 ,\n",
       "        -0.68491141, -0.01134401,  0.29128368],\n",
       "       [-0.42738014,  0.17555937, -0.65801756, -0.71143581,  1.72055428,\n",
       "        -1.0947741 ,  0.94649364, -0.53941173],\n",
       "       [ 1.05629964,  0.42571819,  1.11208129,  0.45023514, -0.4228169 ,\n",
       "        -0.39979794,  1.84230581, -1.86664979],\n",
       "       [ 1.13694731, -0.77041664,  0.99978119, -0.28084696, -1.08368916,\n",
       "         0.66497227, -0.89140469, -0.63522164]])"
      ]
     },
     "execution_count": 18,
     "metadata": {},
     "output_type": "execute_result"
    }
   ],
   "source": [
    "arr = np.random.randn(int (m), int(n))\n",
    "arr"
   ]
  },
  {
   "cell_type": "code",
   "execution_count": 21,
   "id": "9fd34e6a",
   "metadata": {},
   "outputs": [
    {
     "data": {
      "text/plain": [
       "(4, 8)"
      ]
     },
     "execution_count": 21,
     "metadata": {},
     "output_type": "execute_result"
    }
   ],
   "source": [
    "arr.shape\n"
   ]
  },
  {
   "cell_type": "code",
   "execution_count": 23,
   "id": "051c495f",
   "metadata": {},
   "outputs": [
    {
     "data": {
      "text/plain": [
       "dtype('float64')"
      ]
     },
     "execution_count": 23,
     "metadata": {},
     "output_type": "execute_result"
    }
   ],
   "source": [
    "arr.dtype\n"
   ]
  },
  {
   "cell_type": "code",
   "execution_count": 26,
   "id": "90d93cc1",
   "metadata": {},
   "outputs": [
    {
     "data": {
      "text/plain": [
       "array([[-1.09602628, -0.42738014,  1.05629964,  1.13694731],\n",
       "       [-0.398518  ,  0.17555937,  0.42571819, -0.77041664],\n",
       "       [-1.51966163, -0.65801756,  1.11208129,  0.99978119],\n",
       "       [ 0.87723805, -0.71143581,  0.45023514, -0.28084696],\n",
       "       [-0.3569166 ,  1.72055428, -0.4228169 , -1.08368916],\n",
       "       [-0.68491141, -1.0947741 , -0.39979794,  0.66497227],\n",
       "       [-0.01134401,  0.94649364,  1.84230581, -0.89140469],\n",
       "       [ 0.29128368, -0.53941173, -1.86664979, -0.63522164]])"
      ]
     },
     "execution_count": 26,
     "metadata": {},
     "output_type": "execute_result"
    }
   ],
   "source": [
    "np.transpose(arr)"
   ]
  },
  {
   "cell_type": "code",
   "execution_count": 29,
   "id": "35b500c4",
   "metadata": {},
   "outputs": [],
   "source": [
    "arr = np.array([[1,2,0],[np.nan,4,np.nan],[3,5,0]])"
   ]
  },
  {
   "cell_type": "code",
   "execution_count": null,
   "id": "0f189a7f",
   "metadata": {},
   "outputs": [],
   "source": [
    "nanVal = []\n",
    "zeroVal =[]\n",
    "nonZeroVal=[]\n",
    "for i in range(arr,0):\n",
    "  for j in range(arr,1):\n",
    "    if(np.isnan(arr[i][j]))\n",
    "    nanVal.append(arr[i][j])\n",
    "    else if(arr[i][j]==0)\n",
    "    zeroVal.append(arr[i][j])\n",
    "    else nonZeroVal.append(arr[i][j])\n",
    "    \n",
    "print(\"index of nan values\")    "
   ]
  },
  {
   "cell_type": "markdown",
   "id": "e996a9bf",
   "metadata": {},
   "source": [
    "## Bestsellers.csv "
   ]
  },
  {
   "cell_type": "code",
   "execution_count": 13,
   "id": "4defee57",
   "metadata": {},
   "outputs": [
    {
     "data": {
      "text/html": [
       "<div>\n",
       "<style scoped>\n",
       "    .dataframe tbody tr th:only-of-type {\n",
       "        vertical-align: middle;\n",
       "    }\n",
       "\n",
       "    .dataframe tbody tr th {\n",
       "        vertical-align: top;\n",
       "    }\n",
       "\n",
       "    .dataframe thead th {\n",
       "        text-align: right;\n",
       "    }\n",
       "</style>\n",
       "<table border=\"1\" class=\"dataframe\">\n",
       "  <thead>\n",
       "    <tr style=\"text-align: right;\">\n",
       "      <th></th>\n",
       "      <th>Name</th>\n",
       "      <th>Author</th>\n",
       "      <th>User Rating</th>\n",
       "      <th>Reviews</th>\n",
       "      <th>Price</th>\n",
       "      <th>Year</th>\n",
       "      <th>Genre</th>\n",
       "    </tr>\n",
       "  </thead>\n",
       "  <tbody>\n",
       "    <tr>\n",
       "      <th>0</th>\n",
       "      <td>10-Day Green Smoothie Cleanse</td>\n",
       "      <td>JJ Smith</td>\n",
       "      <td>4.7</td>\n",
       "      <td>17350</td>\n",
       "      <td>8</td>\n",
       "      <td>2016</td>\n",
       "      <td>Non Fiction</td>\n",
       "    </tr>\n",
       "    <tr>\n",
       "      <th>1</th>\n",
       "      <td>11/22/63: A Novel</td>\n",
       "      <td>Stephen King</td>\n",
       "      <td>4.6</td>\n",
       "      <td>2052</td>\n",
       "      <td>22</td>\n",
       "      <td>2011</td>\n",
       "      <td>Fiction</td>\n",
       "    </tr>\n",
       "  </tbody>\n",
       "</table>\n",
       "</div>"
      ],
      "text/plain": [
       "                            Name        Author  User Rating  Reviews  Price  \\\n",
       "0  10-Day Green Smoothie Cleanse      JJ Smith          4.7    17350      8   \n",
       "1              11/22/63: A Novel  Stephen King          4.6     2052     22   \n",
       "\n",
       "   Year        Genre  \n",
       "0  2016  Non Fiction  \n",
       "1  2011      Fiction  "
      ]
     },
     "execution_count": 13,
     "metadata": {},
     "output_type": "execute_result"
    }
   ],
   "source": [
    "data.head(2)"
   ]
  },
  {
   "cell_type": "code",
   "execution_count": 17,
   "id": "129bf7bb",
   "metadata": {},
   "outputs": [
    {
     "data": {
      "text/plain": [
       "Publication Manual of the American Psychological Association, 6th Edition    10\n",
       "StrengthsFinder 2.0                                                           9\n",
       "Oh, the Places You'll Go!                                                     8\n",
       "Name: Name, dtype: int64"
      ]
     },
     "execution_count": 17,
     "metadata": {},
     "output_type": "execute_result"
    }
   ],
   "source": [
    "data['Name'].value_counts().nlargest(3)"
   ]
  },
  {
   "cell_type": "code",
   "execution_count": 18,
   "id": "da20d9fa",
   "metadata": {},
   "outputs": [],
   "source": [
    "new = data[['Name','User Rating']]"
   ]
  },
  {
   "cell_type": "code",
   "execution_count": 21,
   "id": "0ddc7773",
   "metadata": {},
   "outputs": [
    {
     "data": {
      "text/plain": [
       "Name                                                                       User Rating  User Rating\n",
       "Publication Manual of the American Psychological Association, 6th Edition  4.5          4.5            10\n",
       "Name: User Rating, dtype: int64"
      ]
     },
     "execution_count": 21,
     "metadata": {},
     "output_type": "execute_result"
    }
   ],
   "source": [
    "new.groupby(['Name' , 'User Rating'])['User Rating'].value_counts().nlargest(1)"
   ]
  },
  {
   "cell_type": "code",
   "execution_count": 25,
   "id": "7c78f51a",
   "metadata": {},
   "outputs": [],
   "source": [
    "import matplotlib as plt"
   ]
  },
  {
   "cell_type": "code",
   "execution_count": 31,
   "id": "08ce4a5e",
   "metadata": {},
   "outputs": [
    {
     "data": {
      "text/plain": [
       "<AxesSubplot:xlabel='Author'>"
      ]
     },
     "execution_count": 31,
     "metadata": {},
     "output_type": "execute_result"
    },
    {
     "data": {
      "image/png": "[encoded data removed]",
      "text/plain": [
       "<Figure size 432x288 with 1 Axes>"
      ]
     },
     "metadata": {
      "needs_background": "light"
     },
     "output_type": "display_data"
    }
   ],
   "source": [
    "data.plot(\"Author\")\n"
   ]
  },
  {
   "cell_type": "code",
   "execution_count": 33,
   "id": "baa6cc79",
   "metadata": {},
   "outputs": [
    {
     "data": {
      "text/plain": [
       "Author\n",
       "Abraham Verghese              2\n",
       "Adam Gasiewski                1\n",
       "Adam Mansbach                 1\n",
       "Adir Levy                     1\n",
       "Admiral William H. McRaven    1\n",
       "                             ..\n",
       "Walter Isaacson               3\n",
       "William Davis                 2\n",
       "William P. Young              2\n",
       "Wizards RPG Team              3\n",
       "Zhi Gang Sha                  2\n",
       "Length: 248, dtype: int64"
      ]
     },
     "execution_count": 33,
     "metadata": {},
     "output_type": "execute_result"
    }
   ],
   "source": [
    "data.groupby('Author').size()"
   ]
  },
  {
   "cell_type": "code",
   "execution_count": null,
   "id": "e1911da5",
   "metadata": {},
   "outputs": [],
   "source": []
  }
 ],
 "metadata": {
  "kernelspec": {
   "display_name": "Python 3 (ipykernel)",
   "language": "python",
   "name": "python3"
  },
  "language_info": {
   "codemirror_mode": {
    "name": "ipython",
    "version": 3
   },
   "file_extension": ".py",
   "mimetype": "text/x-python",
   "name": "python",
   "nbconvert_exporter": "python",
   "pygments_lexer": "ipython3",
   "version": "3.9.12"
  }
 },
 "nbformat": 4,
 "nbformat_minor": 5
}
